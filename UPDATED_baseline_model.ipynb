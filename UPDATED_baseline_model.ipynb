{
 "cells": [
  {
   "cell_type": "code",
   "execution_count": 1,
   "id": "2cb767d0",
   "metadata": {},
   "outputs": [
    {
     "name": "stderr",
     "output_type": "stream",
     "text": [
      "[nltk_data] Downloading package stopwords to C:\\nltk_data...\n",
      "[nltk_data]   Package stopwords is already up-to-date!\n",
      "[nltk_data] Downloading package wordnet to C:\\nltk_data...\n",
      "[nltk_data]   Package wordnet is already up-to-date!\n",
      "[nltk_data] Downloading package punkt to C:\\nltk_data...\n",
      "[nltk_data]   Package punkt is already up-to-date!\n"
     ]
    },
    {
     "name": "stdout",
     "output_type": "stream",
     "text": [
      "Loading and merging datasets...\n",
      "\n",
      "Available columns in DataFrame: ['id', 'comment_text', 'toxic', 'severe_toxic', 'obscene', 'threat', 'insult', 'identity_hate']\n",
      "Using 'toxic' column for labels\n",
      "Merged dataset shape: (184354, 2)\n",
      "Preparing data...\n",
      "\n",
      "Balancing classes...\n",
      "\n",
      "Setting up text cleaning...\n",
      "\n",
      "Cleaning text with simple apply...\n",
      "Loading word embeddings...\n",
      "Epoch 1/100\n",
      "\u001b[1m228/228\u001b[0m \u001b[32m━━━━━━━━━━━━━━━━━━━━\u001b[0m\u001b[37m\u001b[0m \u001b[1m0s\u001b[0m 1s/step - accuracy: 0.7390 - loss: 4.7009"
     ]
    },
    {
     "name": "stderr",
     "output_type": "stream",
     "text": [
      "WARNING:absl:You are saving your model as an HDF5 file via `model.save()` or `keras.saving.save_model(model)`. This file format is considered legacy. We recommend using instead the native Keras format, e.g. `model.save('my_model.keras')` or `keras.saving.save_model(model, 'my_model.keras')`. \n"
     ]
    },
    {
     "name": "stdout",
     "output_type": "stream",
     "text": [
      "\u001b[1m228/228\u001b[0m \u001b[32m━━━━━━━━━━━━━━━━━━━━\u001b[0m\u001b[37m\u001b[0m \u001b[1m245s\u001b[0m 1s/step - accuracy: 0.7393 - loss: 4.6985 - val_accuracy: 0.8916 - val_loss: 3.1921 - learning_rate: 5.0000e-05\n",
      "Epoch 2/100\n",
      "\u001b[1m228/228\u001b[0m \u001b[32m━━━━━━━━━━━━━━━━━━━━\u001b[0m\u001b[37m\u001b[0m \u001b[1m0s\u001b[0m 1s/step - accuracy: 0.8789 - loss: 2.9049"
     ]
    },
    {
     "name": "stderr",
     "output_type": "stream",
     "text": [
      "WARNING:absl:You are saving your model as an HDF5 file via `model.save()` or `keras.saving.save_model(model)`. This file format is considered legacy. We recommend using instead the native Keras format, e.g. `model.save('my_model.keras')` or `keras.saving.save_model(model, 'my_model.keras')`. \n"
     ]
    },
    {
     "name": "stdout",
     "output_type": "stream",
     "text": [
      "\u001b[1m228/228\u001b[0m \u001b[32m━━━━━━━━━━━━━━━━━━━━\u001b[0m\u001b[37m\u001b[0m \u001b[1m243s\u001b[0m 1s/step - accuracy: 0.8789 - loss: 2.9036 - val_accuracy: 0.9064 - val_loss: 2.0420 - learning_rate: 5.0000e-05\n",
      "Epoch 3/100\n",
      "\u001b[1m228/228\u001b[0m \u001b[32m━━━━━━━━━━━━━━━━━━━━\u001b[0m\u001b[37m\u001b[0m \u001b[1m0s\u001b[0m 1s/step - accuracy: 0.8956 - loss: 1.8736"
     ]
    },
    {
     "name": "stderr",
     "output_type": "stream",
     "text": [
      "WARNING:absl:You are saving your model as an HDF5 file via `model.save()` or `keras.saving.save_model(model)`. This file format is considered legacy. We recommend using instead the native Keras format, e.g. `model.save('my_model.keras')` or `keras.saving.save_model(model, 'my_model.keras')`. \n"
     ]
    },
    {
     "name": "stdout",
     "output_type": "stream",
     "text": [
      "\u001b[1m228/228\u001b[0m \u001b[32m━━━━━━━━━━━━━━━━━━━━\u001b[0m\u001b[37m\u001b[0m \u001b[1m238s\u001b[0m 1s/step - accuracy: 0.8956 - loss: 1.8728 - val_accuracy: 0.9095 - val_loss: 1.3239 - learning_rate: 5.0000e-05\n",
      "Epoch 4/100\n",
      "\u001b[1m228/228\u001b[0m \u001b[32m━━━━━━━━━━━━━━━━━━━━\u001b[0m\u001b[37m\u001b[0m \u001b[1m0s\u001b[0m 1s/step - accuracy: 0.8996 - loss: 1.2307"
     ]
    },
    {
     "name": "stderr",
     "output_type": "stream",
     "text": [
      "WARNING:absl:You are saving your model as an HDF5 file via `model.save()` or `keras.saving.save_model(model)`. This file format is considered legacy. We recommend using instead the native Keras format, e.g. `model.save('my_model.keras')` or `keras.saving.save_model(model, 'my_model.keras')`. \n"
     ]
    },
    {
     "name": "stdout",
     "output_type": "stream",
     "text": [
      "\u001b[1m228/228\u001b[0m \u001b[32m━━━━━━━━━━━━━━━━━━━━\u001b[0m\u001b[37m\u001b[0m \u001b[1m239s\u001b[0m 1s/step - accuracy: 0.8997 - loss: 1.2302 - val_accuracy: 0.9138 - val_loss: 0.8820 - learning_rate: 5.0000e-05\n",
      "Epoch 5/100\n",
      "\u001b[1m228/228\u001b[0m \u001b[32m━━━━━━━━━━━━━━━━━━━━\u001b[0m\u001b[37m\u001b[0m \u001b[1m0s\u001b[0m 1s/step - accuracy: 0.9074 - loss: 0.8318"
     ]
    },
    {
     "name": "stderr",
     "output_type": "stream",
     "text": [
      "WARNING:absl:You are saving your model as an HDF5 file via `model.save()` or `keras.saving.save_model(model)`. This file format is considered legacy. We recommend using instead the native Keras format, e.g. `model.save('my_model.keras')` or `keras.saving.save_model(model, 'my_model.keras')`. \n"
     ]
    },
    {
     "name": "stdout",
     "output_type": "stream",
     "text": [
      "\u001b[1m228/228\u001b[0m \u001b[32m━━━━━━━━━━━━━━━━━━━━\u001b[0m\u001b[37m\u001b[0m \u001b[1m240s\u001b[0m 1s/step - accuracy: 0.9074 - loss: 0.8315 - val_accuracy: 0.9168 - val_loss: 0.6085 - learning_rate: 5.0000e-05\n",
      "Epoch 6/100\n",
      "\u001b[1m228/228\u001b[0m \u001b[32m━━━━━━━━━━━━━━━━━━━━\u001b[0m\u001b[37m\u001b[0m \u001b[1m0s\u001b[0m 1s/step - accuracy: 0.9096 - loss: 0.5924"
     ]
    },
    {
     "name": "stderr",
     "output_type": "stream",
     "text": [
      "WARNING:absl:You are saving your model as an HDF5 file via `model.save()` or `keras.saving.save_model(model)`. This file format is considered legacy. We recommend using instead the native Keras format, e.g. `model.save('my_model.keras')` or `keras.saving.save_model(model, 'my_model.keras')`. \n"
     ]
    },
    {
     "name": "stdout",
     "output_type": "stream",
     "text": [
      "\u001b[1m228/228\u001b[0m \u001b[32m━━━━━━━━━━━━━━━━━━━━\u001b[0m\u001b[37m\u001b[0m \u001b[1m238s\u001b[0m 1s/step - accuracy: 0.9096 - loss: 0.5922 - val_accuracy: 0.9211 - val_loss: 0.4508 - learning_rate: 5.0000e-05\n",
      "Epoch 7/100\n",
      "\u001b[1m228/228\u001b[0m \u001b[32m━━━━━━━━━━━━━━━━━━━━\u001b[0m\u001b[37m\u001b[0m \u001b[1m0s\u001b[0m 1s/step - accuracy: 0.9149 - loss: 0.4460"
     ]
    },
    {
     "name": "stderr",
     "output_type": "stream",
     "text": [
      "WARNING:absl:You are saving your model as an HDF5 file via `model.save()` or `keras.saving.save_model(model)`. This file format is considered legacy. We recommend using instead the native Keras format, e.g. `model.save('my_model.keras')` or `keras.saving.save_model(model, 'my_model.keras')`. \n"
     ]
    },
    {
     "name": "stdout",
     "output_type": "stream",
     "text": [
      "\u001b[1m228/228\u001b[0m \u001b[32m━━━━━━━━━━━━━━━━━━━━\u001b[0m\u001b[37m\u001b[0m \u001b[1m237s\u001b[0m 1s/step - accuracy: 0.9149 - loss: 0.4460 - val_accuracy: 0.9234 - val_loss: 0.3518 - learning_rate: 5.0000e-05\n",
      "Epoch 8/100\n",
      "\u001b[1m228/228\u001b[0m \u001b[32m━━━━━━━━━━━━━━━━━━━━\u001b[0m\u001b[37m\u001b[0m \u001b[1m0s\u001b[0m 1s/step - accuracy: 0.9180 - loss: 0.3610"
     ]
    },
    {
     "name": "stderr",
     "output_type": "stream",
     "text": [
      "WARNING:absl:You are saving your model as an HDF5 file via `model.save()` or `keras.saving.save_model(model)`. This file format is considered legacy. We recommend using instead the native Keras format, e.g. `model.save('my_model.keras')` or `keras.saving.save_model(model, 'my_model.keras')`. \n"
     ]
    },
    {
     "name": "stdout",
     "output_type": "stream",
     "text": [
      "\u001b[1m228/228\u001b[0m \u001b[32m━━━━━━━━━━━━━━━━━━━━\u001b[0m\u001b[37m\u001b[0m \u001b[1m240s\u001b[0m 1s/step - accuracy: 0.9180 - loss: 0.3610 - val_accuracy: 0.9251 - val_loss: 0.2988 - learning_rate: 5.0000e-05\n",
      "Epoch 9/100\n",
      "\u001b[1m228/228\u001b[0m \u001b[32m━━━━━━━━━━━━━━━━━━━━\u001b[0m\u001b[37m\u001b[0m \u001b[1m0s\u001b[0m 1s/step - accuracy: 0.9206 - loss: 0.3122"
     ]
    },
    {
     "name": "stderr",
     "output_type": "stream",
     "text": [
      "WARNING:absl:You are saving your model as an HDF5 file via `model.save()` or `keras.saving.save_model(model)`. This file format is considered legacy. We recommend using instead the native Keras format, e.g. `model.save('my_model.keras')` or `keras.saving.save_model(model, 'my_model.keras')`. \n"
     ]
    },
    {
     "name": "stdout",
     "output_type": "stream",
     "text": [
      "\u001b[1m228/228\u001b[0m \u001b[32m━━━━━━━━━━━━━━━━━━━━\u001b[0m\u001b[37m\u001b[0m \u001b[1m238s\u001b[0m 1s/step - accuracy: 0.9206 - loss: 0.3122 - val_accuracy: 0.9296 - val_loss: 0.2607 - learning_rate: 5.0000e-05\n",
      "Epoch 10/100\n",
      "\u001b[1m228/228\u001b[0m \u001b[32m━━━━━━━━━━━━━━━━━━━━\u001b[0m\u001b[37m\u001b[0m \u001b[1m237s\u001b[0m 1s/step - accuracy: 0.9213 - loss: 0.2789 - val_accuracy: 0.9273 - val_loss: 0.2417 - learning_rate: 5.0000e-05\n",
      "Epoch 11/100\n",
      "\u001b[1m228/228\u001b[0m \u001b[32m━━━━━━━━━━━━━━━━━━━━\u001b[0m\u001b[37m\u001b[0m \u001b[1m0s\u001b[0m 1s/step - accuracy: 0.9269 - loss: 0.2544"
     ]
    },
    {
     "name": "stderr",
     "output_type": "stream",
     "text": [
      "WARNING:absl:You are saving your model as an HDF5 file via `model.save()` or `keras.saving.save_model(model)`. This file format is considered legacy. We recommend using instead the native Keras format, e.g. `model.save('my_model.keras')` or `keras.saving.save_model(model, 'my_model.keras')`. \n"
     ]
    },
    {
     "name": "stdout",
     "output_type": "stream",
     "text": [
      "\u001b[1m228/228\u001b[0m \u001b[32m━━━━━━━━━━━━━━━━━━━━\u001b[0m\u001b[37m\u001b[0m \u001b[1m238s\u001b[0m 1s/step - accuracy: 0.9269 - loss: 0.2544 - val_accuracy: 0.9319 - val_loss: 0.2250 - learning_rate: 5.0000e-05\n",
      "Epoch 12/100\n",
      "\u001b[1m228/228\u001b[0m \u001b[32m━━━━━━━━━━━━━━━━━━━━\u001b[0m\u001b[37m\u001b[0m \u001b[1m0s\u001b[0m 1s/step - accuracy: 0.9311 - loss: 0.2381"
     ]
    },
    {
     "name": "stderr",
     "output_type": "stream",
     "text": [
      "WARNING:absl:You are saving your model as an HDF5 file via `model.save()` or `keras.saving.save_model(model)`. This file format is considered legacy. We recommend using instead the native Keras format, e.g. `model.save('my_model.keras')` or `keras.saving.save_model(model, 'my_model.keras')`. \n"
     ]
    },
    {
     "name": "stdout",
     "output_type": "stream",
     "text": [
      "\u001b[1m228/228\u001b[0m \u001b[32m━━━━━━━━━━━━━━━━━━━━\u001b[0m\u001b[37m\u001b[0m \u001b[1m239s\u001b[0m 1s/step - accuracy: 0.9311 - loss: 0.2381 - val_accuracy: 0.9336 - val_loss: 0.2148 - learning_rate: 5.0000e-05\n",
      "Epoch 13/100\n",
      "\u001b[1m228/228\u001b[0m \u001b[32m━━━━━━━━━━━━━━━━━━━━\u001b[0m\u001b[37m\u001b[0m \u001b[1m0s\u001b[0m 1s/step - accuracy: 0.9312 - loss: 0.2270"
     ]
    },
    {
     "name": "stderr",
     "output_type": "stream",
     "text": [
      "WARNING:absl:You are saving your model as an HDF5 file via `model.save()` or `keras.saving.save_model(model)`. This file format is considered legacy. We recommend using instead the native Keras format, e.g. `model.save('my_model.keras')` or `keras.saving.save_model(model, 'my_model.keras')`. \n"
     ]
    },
    {
     "name": "stdout",
     "output_type": "stream",
     "text": [
      "\u001b[1m228/228\u001b[0m \u001b[32m━━━━━━━━━━━━━━━━━━━━\u001b[0m\u001b[37m\u001b[0m \u001b[1m241s\u001b[0m 1s/step - accuracy: 0.9312 - loss: 0.2270 - val_accuracy: 0.9340 - val_loss: 0.2067 - learning_rate: 5.0000e-05\n",
      "Epoch 14/100\n",
      "\u001b[1m228/228\u001b[0m \u001b[32m━━━━━━━━━━━━━━━━━━━━\u001b[0m\u001b[37m\u001b[0m \u001b[1m0s\u001b[0m 1s/step - accuracy: 0.9335 - loss: 0.2169"
     ]
    },
    {
     "name": "stderr",
     "output_type": "stream",
     "text": [
      "WARNING:absl:You are saving your model as an HDF5 file via `model.save()` or `keras.saving.save_model(model)`. This file format is considered legacy. We recommend using instead the native Keras format, e.g. `model.save('my_model.keras')` or `keras.saving.save_model(model, 'my_model.keras')`. \n"
     ]
    },
    {
     "name": "stdout",
     "output_type": "stream",
     "text": [
      "\u001b[1m228/228\u001b[0m \u001b[32m━━━━━━━━━━━━━━━━━━━━\u001b[0m\u001b[37m\u001b[0m \u001b[1m241s\u001b[0m 1s/step - accuracy: 0.9335 - loss: 0.2169 - val_accuracy: 0.9369 - val_loss: 0.1984 - learning_rate: 5.0000e-05\n",
      "Epoch 15/100\n",
      "\u001b[1m228/228\u001b[0m \u001b[32m━━━━━━━━━━━━━━━━━━━━\u001b[0m\u001b[37m\u001b[0m \u001b[1m244s\u001b[0m 1s/step - accuracy: 0.9349 - loss: 0.2093 - val_accuracy: 0.9369 - val_loss: 0.1928 - learning_rate: 5.0000e-05\n",
      "Epoch 16/100\n",
      "\u001b[1m228/228\u001b[0m \u001b[32m━━━━━━━━━━━━━━━━━━━━\u001b[0m\u001b[37m\u001b[0m \u001b[1m0s\u001b[0m 1s/step - accuracy: 0.9359 - loss: 0.1987"
     ]
    },
    {
     "name": "stderr",
     "output_type": "stream",
     "text": [
      "WARNING:absl:You are saving your model as an HDF5 file via `model.save()` or `keras.saving.save_model(model)`. This file format is considered legacy. We recommend using instead the native Keras format, e.g. `model.save('my_model.keras')` or `keras.saving.save_model(model, 'my_model.keras')`. \n"
     ]
    },
    {
     "name": "stdout",
     "output_type": "stream",
     "text": [
      "\u001b[1m228/228\u001b[0m \u001b[32m━━━━━━━━━━━━━━━━━━━━\u001b[0m\u001b[37m\u001b[0m \u001b[1m243s\u001b[0m 1s/step - accuracy: 0.9359 - loss: 0.1987 - val_accuracy: 0.9387 - val_loss: 0.1876 - learning_rate: 5.0000e-05\n",
      "Epoch 17/100\n",
      "\u001b[1m228/228\u001b[0m \u001b[32m━━━━━━━━━━━━━━━━━━━━\u001b[0m\u001b[37m\u001b[0m \u001b[1m0s\u001b[0m 1s/step - accuracy: 0.9392 - loss: 0.1909"
     ]
    },
    {
     "name": "stderr",
     "output_type": "stream",
     "text": [
      "WARNING:absl:You are saving your model as an HDF5 file via `model.save()` or `keras.saving.save_model(model)`. This file format is considered legacy. We recommend using instead the native Keras format, e.g. `model.save('my_model.keras')` or `keras.saving.save_model(model, 'my_model.keras')`. \n"
     ]
    },
    {
     "name": "stdout",
     "output_type": "stream",
     "text": [
      "\u001b[1m228/228\u001b[0m \u001b[32m━━━━━━━━━━━━━━━━━━━━\u001b[0m\u001b[37m\u001b[0m \u001b[1m246s\u001b[0m 1s/step - accuracy: 0.9391 - loss: 0.1909 - val_accuracy: 0.9394 - val_loss: 0.1842 - learning_rate: 5.0000e-05\n",
      "Epoch 18/100\n",
      "\u001b[1m228/228\u001b[0m \u001b[32m━━━━━━━━━━━━━━━━━━━━\u001b[0m\u001b[37m\u001b[0m \u001b[1m0s\u001b[0m 1s/step - accuracy: 0.9394 - loss: 0.1873"
     ]
    },
    {
     "name": "stderr",
     "output_type": "stream",
     "text": [
      "WARNING:absl:You are saving your model as an HDF5 file via `model.save()` or `keras.saving.save_model(model)`. This file format is considered legacy. We recommend using instead the native Keras format, e.g. `model.save('my_model.keras')` or `keras.saving.save_model(model, 'my_model.keras')`. \n"
     ]
    },
    {
     "name": "stdout",
     "output_type": "stream",
     "text": [
      "\u001b[1m228/228\u001b[0m \u001b[32m━━━━━━━━━━━━━━━━━━━━\u001b[0m\u001b[37m\u001b[0m \u001b[1m248s\u001b[0m 1s/step - accuracy: 0.9394 - loss: 0.1874 - val_accuracy: 0.9401 - val_loss: 0.1808 - learning_rate: 5.0000e-05\n",
      "Epoch 19/100\n",
      "\u001b[1m228/228\u001b[0m \u001b[32m━━━━━━━━━━━━━━━━━━━━\u001b[0m\u001b[37m\u001b[0m \u001b[1m241s\u001b[0m 1s/step - accuracy: 0.9413 - loss: 0.1834 - val_accuracy: 0.9386 - val_loss: 0.1804 - learning_rate: 5.0000e-05\n",
      "Epoch 20/100\n",
      "\u001b[1m228/228\u001b[0m \u001b[32m━━━━━━━━━━━━━━━━━━━━\u001b[0m\u001b[37m\u001b[0m \u001b[1m0s\u001b[0m 1s/step - accuracy: 0.9398 - loss: 0.1824"
     ]
    },
    {
     "name": "stderr",
     "output_type": "stream",
     "text": [
      "WARNING:absl:You are saving your model as an HDF5 file via `model.save()` or `keras.saving.save_model(model)`. This file format is considered legacy. We recommend using instead the native Keras format, e.g. `model.save('my_model.keras')` or `keras.saving.save_model(model, 'my_model.keras')`. \n"
     ]
    },
    {
     "name": "stdout",
     "output_type": "stream",
     "text": [
      "\u001b[1m228/228\u001b[0m \u001b[32m━━━━━━━━━━━━━━━━━━━━\u001b[0m\u001b[37m\u001b[0m \u001b[1m243s\u001b[0m 1s/step - accuracy: 0.9398 - loss: 0.1824 - val_accuracy: 0.9404 - val_loss: 0.1744 - learning_rate: 5.0000e-05\n",
      "Epoch 21/100\n",
      "\u001b[1m228/228\u001b[0m \u001b[32m━━━━━━━━━━━━━━━━━━━━\u001b[0m\u001b[37m\u001b[0m \u001b[1m0s\u001b[0m 1s/step - accuracy: 0.9433 - loss: 0.1745"
     ]
    },
    {
     "name": "stderr",
     "output_type": "stream",
     "text": [
      "WARNING:absl:You are saving your model as an HDF5 file via `model.save()` or `keras.saving.save_model(model)`. This file format is considered legacy. We recommend using instead the native Keras format, e.g. `model.save('my_model.keras')` or `keras.saving.save_model(model, 'my_model.keras')`. \n"
     ]
    },
    {
     "name": "stdout",
     "output_type": "stream",
     "text": [
      "\u001b[1m228/228\u001b[0m \u001b[32m━━━━━━━━━━━━━━━━━━━━\u001b[0m\u001b[37m\u001b[0m \u001b[1m240s\u001b[0m 1s/step - accuracy: 0.9433 - loss: 0.1746 - val_accuracy: 0.9409 - val_loss: 0.1725 - learning_rate: 5.0000e-05\n",
      "Epoch 22/100\n",
      "\u001b[1m228/228\u001b[0m \u001b[32m━━━━━━━━━━━━━━━━━━━━\u001b[0m\u001b[37m\u001b[0m \u001b[1m239s\u001b[0m 1s/step - accuracy: 0.9443 - loss: 0.1740 - val_accuracy: 0.9403 - val_loss: 0.1728 - learning_rate: 5.0000e-05\n",
      "Epoch 23/100\n",
      "\u001b[1m228/228\u001b[0m \u001b[32m━━━━━━━━━━━━━━━━━━━━\u001b[0m\u001b[37m\u001b[0m \u001b[1m0s\u001b[0m 1s/step - accuracy: 0.9434 - loss: 0.1693"
     ]
    },
    {
     "name": "stderr",
     "output_type": "stream",
     "text": [
      "WARNING:absl:You are saving your model as an HDF5 file via `model.save()` or `keras.saving.save_model(model)`. This file format is considered legacy. We recommend using instead the native Keras format, e.g. `model.save('my_model.keras')` or `keras.saving.save_model(model, 'my_model.keras')`. \n"
     ]
    },
    {
     "name": "stdout",
     "output_type": "stream",
     "text": [
      "\u001b[1m228/228\u001b[0m \u001b[32m━━━━━━━━━━━━━━━━━━━━\u001b[0m\u001b[37m\u001b[0m \u001b[1m239s\u001b[0m 1s/step - accuracy: 0.9434 - loss: 0.1693 - val_accuracy: 0.9412 - val_loss: 0.1708 - learning_rate: 1.0000e-05\n",
      "Epoch 24/100\n",
      "\u001b[1m228/228\u001b[0m \u001b[32m━━━━━━━━━━━━━━━━━━━━\u001b[0m\u001b[37m\u001b[0m \u001b[1m241s\u001b[0m 1s/step - accuracy: 0.9443 - loss: 0.1647 - val_accuracy: 0.9412 - val_loss: 0.1694 - learning_rate: 1.0000e-05\n",
      "Epoch 25/100\n",
      "\u001b[1m228/228\u001b[0m \u001b[32m━━━━━━━━━━━━━━━━━━━━\u001b[0m\u001b[37m\u001b[0m \u001b[1m0s\u001b[0m 1s/step - accuracy: 0.9448 - loss: 0.1644"
     ]
    },
    {
     "name": "stderr",
     "output_type": "stream",
     "text": [
      "WARNING:absl:You are saving your model as an HDF5 file via `model.save()` or `keras.saving.save_model(model)`. This file format is considered legacy. We recommend using instead the native Keras format, e.g. `model.save('my_model.keras')` or `keras.saving.save_model(model, 'my_model.keras')`. \n"
     ]
    },
    {
     "name": "stdout",
     "output_type": "stream",
     "text": [
      "\u001b[1m228/228\u001b[0m \u001b[32m━━━━━━━━━━━━━━━━━━━━\u001b[0m\u001b[37m\u001b[0m \u001b[1m241s\u001b[0m 1s/step - accuracy: 0.9448 - loss: 0.1644 - val_accuracy: 0.9414 - val_loss: 0.1701 - learning_rate: 1.0000e-05\n",
      "Epoch 26/100\n",
      "\u001b[1m228/228\u001b[0m \u001b[32m━━━━━━━━━━━━━━━━━━━━\u001b[0m\u001b[37m\u001b[0m \u001b[1m0s\u001b[0m 1s/step - accuracy: 0.9477 - loss: 0.1596"
     ]
    },
    {
     "name": "stderr",
     "output_type": "stream",
     "text": [
      "WARNING:absl:You are saving your model as an HDF5 file via `model.save()` or `keras.saving.save_model(model)`. This file format is considered legacy. We recommend using instead the native Keras format, e.g. `model.save('my_model.keras')` or `keras.saving.save_model(model, 'my_model.keras')`. \n"
     ]
    },
    {
     "name": "stdout",
     "output_type": "stream",
     "text": [
      "\u001b[1m228/228\u001b[0m \u001b[32m━━━━━━━━━━━━━━━━━━━━\u001b[0m\u001b[37m\u001b[0m \u001b[1m240s\u001b[0m 1s/step - accuracy: 0.9477 - loss: 0.1596 - val_accuracy: 0.9415 - val_loss: 0.1685 - learning_rate: 1.0000e-05\n",
      "Epoch 27/100\n",
      "\u001b[1m228/228\u001b[0m \u001b[32m━━━━━━━━━━━━━━━━━━━━\u001b[0m\u001b[37m\u001b[0m \u001b[1m0s\u001b[0m 1s/step - accuracy: 0.9455 - loss: 0.1641"
     ]
    },
    {
     "name": "stderr",
     "output_type": "stream",
     "text": [
      "WARNING:absl:You are saving your model as an HDF5 file via `model.save()` or `keras.saving.save_model(model)`. This file format is considered legacy. We recommend using instead the native Keras format, e.g. `model.save('my_model.keras')` or `keras.saving.save_model(model, 'my_model.keras')`. \n"
     ]
    },
    {
     "name": "stdout",
     "output_type": "stream",
     "text": [
      "\u001b[1m228/228\u001b[0m \u001b[32m━━━━━━━━━━━━━━━━━━━━\u001b[0m\u001b[37m\u001b[0m \u001b[1m244s\u001b[0m 1s/step - accuracy: 0.9454 - loss: 0.1641 - val_accuracy: 0.9422 - val_loss: 0.1683 - learning_rate: 1.0000e-05\n",
      "Epoch 28/100\n",
      "\u001b[1m228/228\u001b[0m \u001b[32m━━━━━━━━━━━━━━━━━━━━\u001b[0m\u001b[37m\u001b[0m \u001b[1m242s\u001b[0m 1s/step - accuracy: 0.9442 - loss: 0.1666 - val_accuracy: 0.9414 - val_loss: 0.1684 - learning_rate: 1.0000e-05\n",
      "Epoch 29/100\n",
      "\u001b[1m228/228\u001b[0m \u001b[32m━━━━━━━━━━━━━━━━━━━━\u001b[0m\u001b[37m\u001b[0m \u001b[1m244s\u001b[0m 1s/step - accuracy: 0.9462 - loss: 0.1638 - val_accuracy: 0.9409 - val_loss: 0.1675 - learning_rate: 1.0000e-05\n",
      "Epoch 30/100\n",
      "\u001b[1m228/228\u001b[0m \u001b[32m━━━━━━━━━━━━━━━━━━━━\u001b[0m\u001b[37m\u001b[0m \u001b[1m0s\u001b[0m 1s/step - accuracy: 0.9473 - loss: 0.1598"
     ]
    },
    {
     "name": "stderr",
     "output_type": "stream",
     "text": [
      "WARNING:absl:You are saving your model as an HDF5 file via `model.save()` or `keras.saving.save_model(model)`. This file format is considered legacy. We recommend using instead the native Keras format, e.g. `model.save('my_model.keras')` or `keras.saving.save_model(model, 'my_model.keras')`. \n"
     ]
    },
    {
     "name": "stdout",
     "output_type": "stream",
     "text": [
      "\u001b[1m228/228\u001b[0m \u001b[32m━━━━━━━━━━━━━━━━━━━━\u001b[0m\u001b[37m\u001b[0m \u001b[1m242s\u001b[0m 1s/step - accuracy: 0.9473 - loss: 0.1598 - val_accuracy: 0.9428 - val_loss: 0.1673 - learning_rate: 1.0000e-05\n",
      "Epoch 31/100\n",
      "\u001b[1m228/228\u001b[0m \u001b[32m━━━━━━━━━━━━━━━━━━━━\u001b[0m\u001b[37m\u001b[0m \u001b[1m244s\u001b[0m 1s/step - accuracy: 0.9481 - loss: 0.1598 - val_accuracy: 0.9422 - val_loss: 0.1664 - learning_rate: 1.0000e-05\n",
      "Epoch 32/100\n",
      "\u001b[1m228/228\u001b[0m \u001b[32m━━━━━━━━━━━━━━━━━━━━\u001b[0m\u001b[37m\u001b[0m \u001b[1m243s\u001b[0m 1s/step - accuracy: 0.9486 - loss: 0.1590 - val_accuracy: 0.9423 - val_loss: 0.1658 - learning_rate: 1.0000e-05\n",
      "Epoch 33/100\n",
      "\u001b[1m228/228\u001b[0m \u001b[32m━━━━━━━━━━━━━━━━━━━━\u001b[0m\u001b[37m\u001b[0m \u001b[1m239s\u001b[0m 1s/step - accuracy: 0.9473 - loss: 0.1604 - val_accuracy: 0.9423 - val_loss: 0.1660 - learning_rate: 1.0000e-05\n",
      "Epoch 34/100\n",
      "\u001b[1m228/228\u001b[0m \u001b[32m━━━━━━━━━━━━━━━━━━━━\u001b[0m\u001b[37m\u001b[0m \u001b[1m243s\u001b[0m 1s/step - accuracy: 0.9472 - loss: 0.1593 - val_accuracy: 0.9420 - val_loss: 0.1653 - learning_rate: 1.0000e-05\n",
      "Epoch 35/100\n",
      "\u001b[1m228/228\u001b[0m \u001b[32m━━━━━━━━━━━━━━━━━━━━\u001b[0m\u001b[37m\u001b[0m \u001b[1m249s\u001b[0m 1s/step - accuracy: 0.9458 - loss: 0.1631 - val_accuracy: 0.9428 - val_loss: 0.1650 - learning_rate: 1.0000e-05\n",
      "Epoch 36/100\n",
      "\u001b[1m228/228\u001b[0m \u001b[32m━━━━━━━━━━━━━━━━━━━━\u001b[0m\u001b[37m\u001b[0m \u001b[1m239s\u001b[0m 1s/step - accuracy: 0.9449 - loss: 0.1624 - val_accuracy: 0.9425 - val_loss: 0.1658 - learning_rate: 1.0000e-05\n",
      "Epoch 37/100\n",
      "\u001b[1m228/228\u001b[0m \u001b[32m━━━━━━━━━━━━━━━━━━━━\u001b[0m\u001b[37m\u001b[0m \u001b[1m240s\u001b[0m 1s/step - accuracy: 0.9477 - loss: 0.1580 - val_accuracy: 0.9426 - val_loss: 0.1644 - learning_rate: 1.0000e-05\n",
      "Epoch 38/100\n",
      "\u001b[1m228/228\u001b[0m \u001b[32m━━━━━━━━━━━━━━━━━━━━\u001b[0m\u001b[37m\u001b[0m \u001b[1m241s\u001b[0m 1s/step - accuracy: 0.9469 - loss: 0.1582 - val_accuracy: 0.9415 - val_loss: 0.1648 - learning_rate: 1.0000e-05\n",
      "Epoch 39/100\n",
      "\u001b[1m228/228\u001b[0m \u001b[32m━━━━━━━━━━━━━━━━━━━━\u001b[0m\u001b[37m\u001b[0m \u001b[1m0s\u001b[0m 1s/step - accuracy: 0.9485 - loss: 0.1562"
     ]
    },
    {
     "name": "stderr",
     "output_type": "stream",
     "text": [
      "WARNING:absl:You are saving your model as an HDF5 file via `model.save()` or `keras.saving.save_model(model)`. This file format is considered legacy. We recommend using instead the native Keras format, e.g. `model.save('my_model.keras')` or `keras.saving.save_model(model, 'my_model.keras')`. \n"
     ]
    },
    {
     "name": "stdout",
     "output_type": "stream",
     "text": [
      "\u001b[1m228/228\u001b[0m \u001b[32m━━━━━━━━━━━━━━━━━━━━\u001b[0m\u001b[37m\u001b[0m \u001b[1m240s\u001b[0m 1s/step - accuracy: 0.9485 - loss: 0.1562 - val_accuracy: 0.9435 - val_loss: 0.1639 - learning_rate: 1.0000e-05\n",
      "Epoch 40/100\n",
      "\u001b[1m228/228\u001b[0m \u001b[32m━━━━━━━━━━━━━━━━━━━━\u001b[0m\u001b[37m\u001b[0m \u001b[1m240s\u001b[0m 1s/step - accuracy: 0.9477 - loss: 0.1559 - val_accuracy: 0.9420 - val_loss: 0.1642 - learning_rate: 1.0000e-05\n",
      "Epoch 41/100\n",
      "\u001b[1m228/228\u001b[0m \u001b[32m━━━━━━━━━━━━━━━━━━━━\u001b[0m\u001b[37m\u001b[0m \u001b[1m239s\u001b[0m 1s/step - accuracy: 0.9485 - loss: 0.1552 - val_accuracy: 0.9431 - val_loss: 0.1636 - learning_rate: 1.0000e-05\n",
      "Epoch 42/100\n",
      "\u001b[1m228/228\u001b[0m \u001b[32m━━━━━━━━━━━━━━━━━━━━\u001b[0m\u001b[37m\u001b[0m \u001b[1m238s\u001b[0m 1s/step - accuracy: 0.9489 - loss: 0.1550 - val_accuracy: 0.9428 - val_loss: 0.1634 - learning_rate: 1.0000e-05\n",
      "Epoch 43/100\n",
      "\u001b[1m228/228\u001b[0m \u001b[32m━━━━━━━━━━━━━━━━━━━━\u001b[0m\u001b[37m\u001b[0m \u001b[1m239s\u001b[0m 1s/step - accuracy: 0.9469 - loss: 0.1550 - val_accuracy: 0.9426 - val_loss: 0.1633 - learning_rate: 1.0000e-05\n",
      "Epoch 44/100\n",
      "\u001b[1m228/228\u001b[0m \u001b[32m━━━━━━━━━━━━━━━━━━━━\u001b[0m\u001b[37m\u001b[0m \u001b[1m238s\u001b[0m 1s/step - accuracy: 0.9483 - loss: 0.1525 - val_accuracy: 0.9426 - val_loss: 0.1630 - learning_rate: 1.0000e-05\n",
      "Epoch 45/100\n",
      "\u001b[1m228/228\u001b[0m \u001b[32m━━━━━━━━━━━━━━━━━━━━\u001b[0m\u001b[37m\u001b[0m \u001b[1m241s\u001b[0m 1s/step - accuracy: 0.9487 - loss: 0.1511 - val_accuracy: 0.9429 - val_loss: 0.1626 - learning_rate: 1.0000e-05\n",
      "Epoch 46/100\n",
      "\u001b[1m228/228\u001b[0m \u001b[32m━━━━━━━━━━━━━━━━━━━━\u001b[0m\u001b[37m\u001b[0m \u001b[1m242s\u001b[0m 1s/step - accuracy: 0.9473 - loss: 0.1539 - val_accuracy: 0.9428 - val_loss: 0.1624 - learning_rate: 1.0000e-05\n",
      "Epoch 47/100\n",
      "\u001b[1m228/228\u001b[0m \u001b[32m━━━━━━━━━━━━━━━━━━━━\u001b[0m\u001b[37m\u001b[0m \u001b[1m233s\u001b[0m 1s/step - accuracy: 0.9497 - loss: 0.1509 - val_accuracy: 0.9411 - val_loss: 0.1629 - learning_rate: 1.0000e-05\n",
      "Epoch 48/100\n",
      "\u001b[1m228/228\u001b[0m \u001b[32m━━━━━━━━━━━━━━━━━━━━\u001b[0m\u001b[37m\u001b[0m \u001b[1m0s\u001b[0m 628ms/step - accuracy: 0.9489 - loss: 0.1528"
     ]
    },
    {
     "name": "stderr",
     "output_type": "stream",
     "text": [
      "WARNING:absl:You are saving your model as an HDF5 file via `model.save()` or `keras.saving.save_model(model)`. This file format is considered legacy. We recommend using instead the native Keras format, e.g. `model.save('my_model.keras')` or `keras.saving.save_model(model, 'my_model.keras')`. \n"
     ]
    },
    {
     "name": "stdout",
     "output_type": "stream",
     "text": [
      "\u001b[1m228/228\u001b[0m \u001b[32m━━━━━━━━━━━━━━━━━━━━\u001b[0m\u001b[37m\u001b[0m \u001b[1m147s\u001b[0m 643ms/step - accuracy: 0.9489 - loss: 0.1528 - val_accuracy: 0.9439 - val_loss: 0.1628 - learning_rate: 1.0000e-05\n",
      "Epoch 49/100\n",
      "\u001b[1m228/228\u001b[0m \u001b[32m━━━━━━━━━━━━━━━━━━━━\u001b[0m\u001b[37m\u001b[0m \u001b[1m0s\u001b[0m 621ms/step - accuracy: 0.9502 - loss: 0.1486"
     ]
    },
    {
     "name": "stderr",
     "output_type": "stream",
     "text": [
      "WARNING:absl:You are saving your model as an HDF5 file via `model.save()` or `keras.saving.save_model(model)`. This file format is considered legacy. We recommend using instead the native Keras format, e.g. `model.save('my_model.keras')` or `keras.saving.save_model(model, 'my_model.keras')`. \n"
     ]
    },
    {
     "name": "stdout",
     "output_type": "stream",
     "text": [
      "\u001b[1m228/228\u001b[0m \u001b[32m━━━━━━━━━━━━━━━━━━━━\u001b[0m\u001b[37m\u001b[0m \u001b[1m145s\u001b[0m 637ms/step - accuracy: 0.9502 - loss: 0.1486 - val_accuracy: 0.9445 - val_loss: 0.1613 - learning_rate: 1.0000e-05\n",
      "Epoch 50/100\n",
      "\u001b[1m228/228\u001b[0m \u001b[32m━━━━━━━━━━━━━━━━━━━━\u001b[0m\u001b[37m\u001b[0m \u001b[1m147s\u001b[0m 646ms/step - accuracy: 0.9493 - loss: 0.1491 - val_accuracy: 0.9442 - val_loss: 0.1617 - learning_rate: 1.0000e-05\n",
      "Epoch 51/100\n",
      "\u001b[1m228/228\u001b[0m \u001b[32m━━━━━━━━━━━━━━━━━━━━\u001b[0m\u001b[37m\u001b[0m \u001b[1m194s\u001b[0m 852ms/step - accuracy: 0.9489 - loss: 0.1505 - val_accuracy: 0.9440 - val_loss: 0.1614 - learning_rate: 1.0000e-05\n",
      "Epoch 52/100\n",
      "\u001b[1m228/228\u001b[0m \u001b[32m━━━━━━━━━━━━━━━━━━━━\u001b[0m\u001b[37m\u001b[0m \u001b[1m228s\u001b[0m 1s/step - accuracy: 0.9496 - loss: 0.1494 - val_accuracy: 0.9432 - val_loss: 0.1610 - learning_rate: 1.0000e-05\n",
      "Epoch 53/100\n",
      "\u001b[1m228/228\u001b[0m \u001b[32m━━━━━━━━━━━━━━━━━━━━\u001b[0m\u001b[37m\u001b[0m \u001b[1m169s\u001b[0m 742ms/step - accuracy: 0.9500 - loss: 0.1485 - val_accuracy: 0.9435 - val_loss: 0.1608 - learning_rate: 1.0000e-05\n",
      "Epoch 54/100\n",
      "\u001b[1m228/228\u001b[0m \u001b[32m━━━━━━━━━━━━━━━━━━━━\u001b[0m\u001b[37m\u001b[0m \u001b[1m184s\u001b[0m 805ms/step - accuracy: 0.9487 - loss: 0.1494 - val_accuracy: 0.9434 - val_loss: 0.1603 - learning_rate: 1.0000e-05\n",
      "Epoch 55/100\n",
      "\u001b[1m228/228\u001b[0m \u001b[32m━━━━━━━━━━━━━━━━━━━━\u001b[0m\u001b[37m\u001b[0m \u001b[1m160s\u001b[0m 703ms/step - accuracy: 0.9501 - loss: 0.1477 - val_accuracy: 0.9431 - val_loss: 0.1608 - learning_rate: 1.0000e-05\n",
      "Epoch 56/100\n",
      "\u001b[1m228/228\u001b[0m \u001b[32m━━━━━━━━━━━━━━━━━━━━\u001b[0m\u001b[37m\u001b[0m \u001b[1m156s\u001b[0m 686ms/step - accuracy: 0.9515 - loss: 0.1455 - val_accuracy: 0.9439 - val_loss: 0.1603 - learning_rate: 1.0000e-05\n",
      "Epoch 57/100\n",
      "\u001b[1m228/228\u001b[0m \u001b[32m━━━━━━━━━━━━━━━━━━━━\u001b[0m\u001b[37m\u001b[0m \u001b[1m170s\u001b[0m 743ms/step - accuracy: 0.9506 - loss: 0.1469 - val_accuracy: 0.9426 - val_loss: 0.1601 - learning_rate: 1.0000e-05\n",
      "Epoch 58/100\n",
      "\u001b[1m228/228\u001b[0m \u001b[32m━━━━━━━━━━━━━━━━━━━━\u001b[0m\u001b[37m\u001b[0m \u001b[1m163s\u001b[0m 717ms/step - accuracy: 0.9509 - loss: 0.1468 - val_accuracy: 0.9443 - val_loss: 0.1599 - learning_rate: 1.0000e-05\n",
      "Epoch 59/100\n",
      "\u001b[1m228/228\u001b[0m \u001b[32m━━━━━━━━━━━━━━━━━━━━\u001b[0m\u001b[37m\u001b[0m \u001b[1m166s\u001b[0m 727ms/step - accuracy: 0.9503 - loss: 0.1459 - val_accuracy: 0.9428 - val_loss: 0.1602 - learning_rate: 1.0000e-05\n",
      "Epoch 60/100\n",
      "\u001b[1m228/228\u001b[0m \u001b[32m━━━━━━━━━━━━━━━━━━━━\u001b[0m\u001b[37m\u001b[0m \u001b[1m207s\u001b[0m 910ms/step - accuracy: 0.9506 - loss: 0.1458 - val_accuracy: 0.9431 - val_loss: 0.1593 - learning_rate: 1.0000e-05\n",
      "Epoch 61/100\n",
      "\u001b[1m228/228\u001b[0m \u001b[32m━━━━━━━━━━━━━━━━━━━━\u001b[0m\u001b[37m\u001b[0m \u001b[1m0s\u001b[0m 717ms/step - accuracy: 0.9498 - loss: 0.1466"
     ]
    },
    {
     "name": "stderr",
     "output_type": "stream",
     "text": [
      "WARNING:absl:You are saving your model as an HDF5 file via `model.save()` or `keras.saving.save_model(model)`. This file format is considered legacy. We recommend using instead the native Keras format, e.g. `model.save('my_model.keras')` or `keras.saving.save_model(model, 'my_model.keras')`. \n"
     ]
    },
    {
     "name": "stdout",
     "output_type": "stream",
     "text": [
      "\u001b[1m228/228\u001b[0m \u001b[32m━━━━━━━━━━━━━━━━━━━━\u001b[0m\u001b[37m\u001b[0m \u001b[1m168s\u001b[0m 737ms/step - accuracy: 0.9498 - loss: 0.1466 - val_accuracy: 0.9448 - val_loss: 0.1591 - learning_rate: 1.0000e-05\n",
      "Epoch 62/100\n",
      "\u001b[1m228/228\u001b[0m \u001b[32m━━━━━━━━━━━━━━━━━━━━\u001b[0m\u001b[37m\u001b[0m \u001b[1m158s\u001b[0m 693ms/step - accuracy: 0.9518 - loss: 0.1429 - val_accuracy: 0.9425 - val_loss: 0.1592 - learning_rate: 1.0000e-05\n",
      "Epoch 63/100\n",
      "\u001b[1m228/228\u001b[0m \u001b[32m━━━━━━━━━━━━━━━━━━━━\u001b[0m\u001b[37m\u001b[0m \u001b[1m156s\u001b[0m 686ms/step - accuracy: 0.9522 - loss: 0.1423 - val_accuracy: 0.9439 - val_loss: 0.1589 - learning_rate: 1.0000e-05\n",
      "Epoch 64/100\n",
      "\u001b[1m228/228\u001b[0m \u001b[32m━━━━━━━━━━━━━━━━━━━━\u001b[0m\u001b[37m\u001b[0m \u001b[1m0s\u001b[0m 666ms/step - accuracy: 0.9503 - loss: 0.1441"
     ]
    },
    {
     "name": "stderr",
     "output_type": "stream",
     "text": [
      "WARNING:absl:You are saving your model as an HDF5 file via `model.save()` or `keras.saving.save_model(model)`. This file format is considered legacy. We recommend using instead the native Keras format, e.g. `model.save('my_model.keras')` or `keras.saving.save_model(model, 'my_model.keras')`. \n"
     ]
    },
    {
     "name": "stdout",
     "output_type": "stream",
     "text": [
      "\u001b[1m228/228\u001b[0m \u001b[32m━━━━━━━━━━━━━━━━━━━━\u001b[0m\u001b[37m\u001b[0m \u001b[1m156s\u001b[0m 682ms/step - accuracy: 0.9503 - loss: 0.1442 - val_accuracy: 0.9449 - val_loss: 0.1585 - learning_rate: 1.0000e-05\n",
      "Epoch 65/100\n",
      "\u001b[1m228/228\u001b[0m \u001b[32m━━━━━━━━━━━━━━━━━━━━\u001b[0m\u001b[37m\u001b[0m \u001b[1m156s\u001b[0m 682ms/step - accuracy: 0.9518 - loss: 0.1427 - val_accuracy: 0.9434 - val_loss: 0.1585 - learning_rate: 1.0000e-05\n",
      "Epoch 66/100\n",
      "\u001b[1m228/228\u001b[0m \u001b[32m━━━━━━━━━━━━━━━━━━━━\u001b[0m\u001b[37m\u001b[0m \u001b[1m156s\u001b[0m 684ms/step - accuracy: 0.9516 - loss: 0.1427 - val_accuracy: 0.9440 - val_loss: 0.1588 - learning_rate: 1.0000e-05\n",
      "Epoch 67/100\n",
      "\u001b[1m228/228\u001b[0m \u001b[32m━━━━━━━━━━━━━━━━━━━━\u001b[0m\u001b[37m\u001b[0m \u001b[1m155s\u001b[0m 682ms/step - accuracy: 0.9524 - loss: 0.1403 - val_accuracy: 0.9408 - val_loss: 0.1593 - learning_rate: 1.0000e-05\n",
      "Epoch 68/100\n",
      "\u001b[1m228/228\u001b[0m \u001b[32m━━━━━━━━━━━━━━━━━━━━\u001b[0m\u001b[37m\u001b[0m \u001b[1m155s\u001b[0m 682ms/step - accuracy: 0.9497 - loss: 0.1462 - val_accuracy: 0.9439 - val_loss: 0.1586 - learning_rate: 1.0000e-05\n"
     ]
    },
    {
     "data": {
      "image/png": "[encoded data removed]",
      "text/plain": [
       "<Figure size 1400x600 with 2 Axes>"
      ]
     },
     "metadata": {},
     "output_type": "display_data"
    },
    {
     "name": "stderr",
     "output_type": "stream",
     "text": [
      "WARNING:absl:Compiled the loaded model, but the compiled metrics have yet to be built. `model.compile_metrics` will be empty until you train or evaluate the model.\n"
     ]
    },
    {
     "name": "stdout",
     "output_type": "stream",
     "text": [
      "\u001b[1m225/225\u001b[0m \u001b[32m━━━━━━━━━━━━━━━━━━━━\u001b[0m\u001b[37m\u001b[0m \u001b[1m14s\u001b[0m 59ms/step\n",
      "\n",
      "\u001b[1mFinal Validation Metrics (on best model):\u001b[0m\n",
      "Accuracy: 0.9351\n",
      "Precision: 0.9440\n",
      "Recall: 0.9256\n",
      "F1-score: 0.9347\n",
      "\n",
      "\u001b[Classification Report:\u001b[0m\n",
      "              precision    recall  f1-score   support\n",
      "\n",
      "   Non-Toxic     0.9266    0.9447    0.9355      3579\n",
      "       Toxic     0.9440    0.9256    0.9347      3604\n",
      "\n",
      "    accuracy                         0.9351      7183\n",
      "   macro avg     0.9353    0.9352    0.9351      7183\n",
      "weighted avg     0.9353    0.9351    0.9351      7183\n",
      "\n"
     ]
    },
    {
     "data": {
      "image/png": "[encoded data removed]",
      "text/plain": [
       "<Figure size 800x600 with 2 Axes>"
      ]
     },
     "metadata": {},
     "output_type": "display_data"
    },
    {
     "name": "stdout",
     "output_type": "stream",
     "text": [
      "\u001b[1m1/1\u001b[0m \u001b[32m━━━━━━━━━━━━━━━━━━━━\u001b[0m\u001b[37m\u001b[0m \u001b[1m0s\u001b[0m 292ms/step\n",
      "\n",
      "Text: You're an idiot!\n",
      "Non-toxic: 2.74% | Toxic: 97.26%\n",
      "\u001b[1m1/1\u001b[0m \u001b[32m━━━━━━━━━━━━━━━━━━━━\u001b[0m\u001b[37m\u001b[0m \u001b[1m0s\u001b[0m 62ms/step\n",
      "\n",
      "Text: Have a nice day!\n",
      "Non-toxic: 88.94% | Toxic: 11.06%\n"
     ]
    }
   ],
   "source": [
    "import pandas as pd\n",
    "import numpy as np\n",
    "import re\n",
    "import matplotlib.pyplot as plt\n",
    "import seaborn as sns\n",
    "import nltk\n",
    "import spacy\n",
    "import tensorflow as tf\n",
    "from nltk.corpus import stopwords\n",
    "from nltk.stem import WordNetLemmatizer\n",
    "from nltk.tokenize import word_tokenize\n",
    "from sklearn.model_selection import train_test_split\n",
    "from sklearn.utils import resample\n",
    "from sklearn.metrics import (\n",
    "    accuracy_score,\n",
    "    precision_score,\n",
    "    recall_score,\n",
    "    f1_score,\n",
    "    classification_report,\n",
    "    confusion_matrix,\n",
    ")\n",
    "from tensorflow.keras.preprocessing.text import Tokenizer\n",
    "from tensorflow.keras.preprocessing.sequence import pad_sequences\n",
    "from tensorflow.keras.models import Sequential\n",
    "from tensorflow.keras.layers import Embedding, LSTM, Dense, Dropout\n",
    "from tensorflow.keras.optimizers import Adam\n",
    "from tensorflow.keras.regularizers import l2\n",
    "from tensorflow.keras.callbacks import EarlyStopping, ReduceLROnPlateau, ModelCheckpoint\n",
    "from tensorflow.keras.utils import to_categorical\n",
    "\n",
    "# NLTK downloads\n",
    "nltk.download(\"stopwords\")\n",
    "nltk.download(\"wordnet\")\n",
    "nltk.download(\"punkt\")\n",
    "\n",
    "# ✅ Move this function up BEFORE it's called\n",
    "def prepare_labels(df):\n",
    "    print(\"\\nAvailable columns in DataFrame:\", df.columns.tolist())\n",
    "    text_col = None\n",
    "    for possible_col in [\"comment_text\", \"text\"]:\n",
    "        if possible_col in df.columns:\n",
    "            text_col = possible_col\n",
    "            break\n",
    "    if text_col is None:\n",
    "        raise ValueError(\n",
    "            f\"No recognized text column found. Available columns: {df.columns.tolist()}\"\n",
    "        )\n",
    "\n",
    "    if \"toxic\" in df.columns:\n",
    "        print(\"Using 'toxic' column for labels\")\n",
    "        df[\"class\"] = np.where(df[\"toxic\"] >= 0.5, 1, 0)\n",
    "    else:\n",
    "        available_cols = [c for c in df.columns if c not in [text_col]]\n",
    "        raise ValueError(\n",
    "            f\"No recognized label columns found. Available columns: {df.columns.tolist()}\\n\"\n",
    "            f\"Potential label columns: {available_cols}\"\n",
    "        )\n",
    "\n",
    "    return df[[text_col, \"class\"]].rename(columns={text_col: \"tweet\"})\n",
    "\n",
    "\n",
    "# ✅ Load and merge datasets\n",
    "print(\"Loading and merging datasets...\")\n",
    "\n",
    "df1 = pd.read_csv(\"./data/labeled_data.csv\")  # Davidson et al.\n",
    "df1 = df1.rename(columns={\"tweet\": \"tweet\", \"class\": \"label\"})\n",
    "df1[\"class\"] = df1[\"label\"].apply(lambda x: 1 if x in [0, 1] else 0)\n",
    "df1 = df1[[\"tweet\", \"class\"]]\n",
    "\n",
    "df2 = pd.read_csv(\"./data/train.csv\")  # Jigsaw dataset\n",
    "df2_prepared = prepare_labels(df2)\n",
    "\n",
    "combined_df = pd.concat([df1, df2_prepared], ignore_index=True)\n",
    "combined_df.drop_duplicates(subset=\"tweet\", inplace=True)\n",
    "\n",
    "print(\"Merged dataset shape:\", combined_df.shape)\n",
    "prepared_df = combined_df  # ✅ This is the version you keep using\n",
    "\n",
    "\n",
    "def prepare_labels(df):\n",
    "    print(\"\\nAvailable columns in DataFrame:\", df.columns.tolist())\n",
    "    text_col = None\n",
    "    for possible_col in [\"comment_text\", \"text\"]:\n",
    "        if possible_col in df.columns:\n",
    "            text_col = possible_col\n",
    "            break\n",
    "    if text_col is None:\n",
    "        raise ValueError(\n",
    "            f\"No recognized text column found. Available columns: {df.columns.tolist()}\"\n",
    "        )\n",
    "\n",
    "    if \"toxic\" in df.columns:\n",
    "        print(\"Using 'toxic' column for labels\")\n",
    "        df[\"class\"] = np.where(df[\"toxic\"] >= 0.5, 1, 0)\n",
    "    else:\n",
    "        available_cols = [c for c in df.columns if c not in [text_col]]\n",
    "        raise ValueError(\n",
    "            f\"No recognized label columns found. Available columns: {df.columns.tolist()}\\n\"\n",
    "            f\"Potential label columns: {available_cols}\"\n",
    "        )\n",
    "\n",
    "    return df[[text_col, \"class\"]].rename(columns={text_col: \"tweet\"})\n",
    "\n",
    "\n",
    "print(\"Preparing data...\")\n",
    "\n",
    "print(\"\\nBalancing classes...\")\n",
    "df_majority = prepared_df[prepared_df[\"class\"] == 0]\n",
    "df_minority = prepared_df[prepared_df[\"class\"] == 1]\n",
    "if len(df_minority) == 0:\n",
    "    raise ValueError(\"No toxic samples found in dataset!\")\n",
    "\n",
    "df_majority = resample(df_majority, n_samples=len(df_minority), random_state=42)\n",
    "balanced_df = pd.concat([df_majority, df_minority]).sample(frac=1, random_state=42)\n",
    "\n",
    "print(\"\\nSetting up text cleaning...\")\n",
    "lemmatizer = WordNetLemmatizer()\n",
    "stop_words = set(stopwords.words(\"english\"))\n",
    "\n",
    "def clean_text(text):\n",
    "    try:\n",
    "        if pd.isna(text):\n",
    "            return \"\"\n",
    "        text = str(text).lower()\n",
    "        text = re.sub(r\"won't\", \"will not\", text)\n",
    "        text = re.sub(r\"can\\'t\", \"can not\", text)\n",
    "        text = re.sub(r\"n\\'t\", \" not\", text)\n",
    "        text = re.sub(r\"\\'re\", \" are\", text)\n",
    "        text = re.sub(r\"\\'s\", \" is\", text)\n",
    "        text = re.sub(r\"\\'d\", \" would\", text)\n",
    "        text = re.sub(r\"\\'ll\", \" will\", text)\n",
    "        text = re.sub(r\"\\'t\", \" not\", text)\n",
    "        text = re.sub(r\"\\'ve\", \" have\", text)\n",
    "        text = re.sub(r\"\\'m\", \" am\", text)\n",
    "        text = re.sub(r\"http\\S+|www\\S+|https\\S+\", \"\", text, flags=re.MULTILINE)\n",
    "        text = re.sub(r\"@\\w+|\\#\", \"\", text)\n",
    "        text = re.sub(r\"[^\\w\\s]\", \"\", text)\n",
    "        tokens = [\n",
    "            lemmatizer.lemmatize(word)\n",
    "            for word in word_tokenize(text)\n",
    "            if word not in stop_words\n",
    "        ]\n",
    "        return \" \".join(tokens)\n",
    "    except Exception as e:\n",
    "        print(f\"Error cleaning text: {text[:50]}... Error: {str(e)}\")\n",
    "        return \"\"\n",
    "\n",
    "print(\"\\nCleaning text with simple apply...\")\n",
    "balanced_df[\"cleaned_text\"] = balanced_df[\"tweet\"].apply(clean_text)\n",
    "\n",
    "tokenizer = Tokenizer(num_words=30000, oov_token=\"<OOV>\")\n",
    "tokenizer.fit_on_texts(balanced_df[\"cleaned_text\"])\n",
    "sequences = tokenizer.texts_to_sequences(balanced_df[\"cleaned_text\"])\n",
    "import pickle\n",
    "with open('original_tokenizer.pickle', 'wb') as handle:\n",
    "    pickle.dump(tokenizer, handle, protocol=pickle.HIGHEST_PROTOCOL)\n",
    "padded_sequences = pad_sequences(sequences, maxlen=128, truncating=\"post\")\n",
    "\n",
    "y = to_categorical(balanced_df[\"class\"])\n",
    "X_train, X_test, y_train, y_test = train_test_split(\n",
    "    padded_sequences, y, test_size=0.1, random_state=42\n",
    ")\n",
    "\n",
    "print(\"Loading word embeddings...\")\n",
    "try:\n",
    "    nlp = spacy.load(\"en_core_web_md\")\n",
    "except:\n",
    "    import subprocess\n",
    "    subprocess.run([\"python\", \"-m\", \"spacy\", \"download\", \"en_core_web_md\"])\n",
    "    nlp = spacy.load(\"en_core_web_md\")\n",
    "\n",
    "embedding_dim = 300\n",
    "vocab_size = min(30000, len(tokenizer.word_index) + 1)\n",
    "embedding_matrix = np.zeros((vocab_size, embedding_dim))\n",
    "\n",
    "for word, i in tokenizer.word_index.items():\n",
    "    if i < vocab_size:\n",
    "        embedding_matrix[i] = nlp(word).vector\n",
    "\n",
    "model = Sequential(\n",
    "    [\n",
    "        Embedding(\n",
    "            input_dim=30000,\n",
    "            output_dim=300,\n",
    "            weights=[embedding_matrix],\n",
    "            trainable=True,\n",
    "        ),\n",
    "        LSTM(\n",
    "            256, dropout=0.3, recurrent_dropout=0.3, kernel_regularizer=l2(0.01)\n",
    "        ),\n",
    "        Dense(2, activation=\"softmax\"),\n",
    "    ]\n",
    ")\n",
    "\n",
    "model.compile(\n",
    "    optimizer=Adam(learning_rate=0.00005),\n",
    "    loss=\"categorical_crossentropy\",\n",
    "    metrics=[\"accuracy\"],\n",
    ")\n",
    "\n",
    "callbacks = [\n",
    "    EarlyStopping(monitor=\"val_loss\", patience=4, restore_best_weights=True),\n",
    "    ReduceLROnPlateau(\n",
    "        monitor=\"val_loss\", factor=0.2, patience=1, min_lr=0.00001\n",
    "    ),\n",
    "    ModelCheckpoint(\n",
    "        \"best_toxic_model.h5\", monitor=\"val_accuracy\", mode=\"max\", save_best_only=True\n",
    "    ),\n",
    "]\n",
    "\n",
    "history = model.fit(\n",
    "    X_train,\n",
    "    y_train,\n",
    "    epochs=100,\n",
    "    batch_size=256,\n",
    "    validation_split=0.1,\n",
    "    callbacks=callbacks,\n",
    "    verbose=1,\n",
    ")\n",
    "\n",
    "# ===== NEW FUNCTION TO PLOT TRAINING HISTORY =====\n",
    "def plot_training_history(history):\n",
    "    acc = history.history[\"accuracy\"]\n",
    "    val_acc = history.history[\"val_accuracy\"]\n",
    "    loss = history.history[\"loss\"]\n",
    "    val_loss = history.history[\"val_loss\"]\n",
    "    epochs_range = range(1, len(acc) + 1)\n",
    "\n",
    "    plt.figure(figsize=(14, 6))\n",
    "\n",
    "    plt.subplot(1, 2, 1)\n",
    "    plt.plot(epochs_range, acc, label=\"Training Accuracy\", marker=\"o\")\n",
    "    plt.plot(epochs_range, val_acc, label=\"Validation Accuracy\", marker=\"o\")\n",
    "    plt.legend(loc=\"lower right\")\n",
    "    plt.title(\"Training and Validation Accuracy\")\n",
    "    plt.xlabel(\"Epochs\")\n",
    "    plt.ylabel(\"Accuracy\")\n",
    "    plt.grid(True)\n",
    "\n",
    "    plt.subplot(1, 2, 2)\n",
    "    plt.plot(epochs_range, loss, label=\"Training Loss\", marker=\"o\")\n",
    "    plt.plot(epochs_range, val_loss, label=\"Validation Loss\", marker=\"o\")\n",
    "    plt.legend(loc=\"upper right\")\n",
    "    plt.title(\"Training and Validation Loss\")\n",
    "    plt.xlabel(\"Epochs\")\n",
    "    plt.ylabel(\"Loss\")\n",
    "    plt.grid(True)\n",
    "\n",
    "    plt.tight_layout()\n",
    "    plt.show()\n",
    "\n",
    "# Call the plotting function\n",
    "plot_training_history(history)\n",
    "\n",
    "# ===== EVALUATION FUNCTION =====\n",
    "def evaluate_model(model, X_test, y_test):\n",
    "    from tensorflow.keras.models import load_model\n",
    "    best_model = load_model(\"best_toxic_model.h5\")\n",
    "    y_pred = best_model.predict(X_test)\n",
    "    y_pred_classes = np.argmax(y_pred, axis=1)\n",
    "    y_true = np.argmax(y_test, axis=1)\n",
    "\n",
    "    accuracy = accuracy_score(y_true, y_pred_classes)\n",
    "    precision = precision_score(y_true, y_pred_classes)\n",
    "    recall = recall_score(y_true, y_pred_classes)\n",
    "    f1 = f1_score(y_true, y_pred_classes)\n",
    "\n",
    "    print(\"\\n\\033[1mFinal Validation Metrics (on best model):\\033[0m\")\n",
    "    print(f\"Accuracy: {accuracy:.4f}\")\n",
    "    print(f\"Precision: {precision:.4f}\")\n",
    "    print(f\"Recall: {recall:.4f}\")\n",
    "    print(f\"F1-score: {f1:.4f}\\n\")\n",
    "\n",
    "    print(\"\\033[Classification Report:\\033[0m\")\n",
    "    print(classification_report(\n",
    "        y_true, y_pred_classes,\n",
    "        target_names=[\"Non-Toxic\", \"Toxic\"],\n",
    "        digits=4,\n",
    "    ))\n",
    "\n",
    "    cm = confusion_matrix(y_true, y_pred_classes)\n",
    "    plt.figure(figsize=(8, 6))\n",
    "    sns.heatmap(cm, annot=True, fmt=\"d\", cmap=\"Blues\",\n",
    "                xticklabels=[\"Non-Toxic\", \"Toxic\"],\n",
    "                yticklabels=[\"Non-Toxic\", \"Toxic\"])\n",
    "    plt.title(\"Confusion Matrix\\n(True vs Predicted)\")\n",
    "    plt.ylabel(\"Actual Label\")\n",
    "    plt.xlabel(\"Predicted Label\")\n",
    "    plt.show()\n",
    "\n",
    "# ===== PREDICTION FUNCTION =====\n",
    "def predict_toxicity(text):\n",
    "    cleaned = clean_text(text)\n",
    "    seq = tokenizer.texts_to_sequences([cleaned])\n",
    "    padded = pad_sequences(seq, maxlen=128)\n",
    "    prob = model.predict(padded)[0]\n",
    "    print(f\"\\nText: {text}\")\n",
    "    print(f\"Non-toxic: {prob[0]*100:.2f}% | Toxic: {prob[1]*100:.2f}%\")\n",
    "\n",
    "# ===== EXECUTION =====\n",
    "evaluate_model(model, X_test, y_test)\n",
    "predict_toxicity(\"You're an idiot!\")\n",
    "predict_toxicity(\"Have a nice day!\")"
   ]
  }
 ],
 "metadata": {
  "kernelspec": {
   "display_name": "Python 3",
   "language": "python",
   "name": "python3"
  },
  "language_info": {
   "codemirror_mode": {
    "name": "ipython",
    "version": 3
   },
   "file_extension": ".py",
   "mimetype": "text/x-python",
   "name": "python",
   "nbconvert_exporter": "python",
   "pygments_lexer": "ipython3",
   "version": "3.12.2"
  }
 },
 "nbformat": 4,
 "nbformat_minor": 5
}
